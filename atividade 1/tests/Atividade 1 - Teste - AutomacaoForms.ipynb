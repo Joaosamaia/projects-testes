{
 "cells": [
  {
   "cell_type": "code",
   "execution_count": 7,
   "id": "74ca5d46-3d3f-4f1d-ac56-b0c3ad17d24b",
   "metadata": {},
   "outputs": [],
   "source": [
    "import pyautogui\n",
    "import time\n",
    "\n",
    "pyautogui.hotkey('ctrl', 'tab')\n",
    "time.sleep(1)\n",
    "pyautogui.press('tab')\n",
    "time.sleep(0.5)\n",
    "pyautogui.write('Meu nome', interval=0.1)\n",
    "time.sleep(1)\n",
    "pyautogui.press('tab')\n",
    "time.sleep(0.5)\n",
    "pyautogui.write('Meu login', interval=0.1)\n",
    "time.sleep(1)\n",
    "pyautogui.press('tab')\n",
    "time.sleep(0.5)\n",
    "pyautogui.write('Meu senha', interval=0.1)\n",
    "time.sleep(1)\n",
    "pyautogui.press('tab')\n",
    "time.sleep(0.5)\n",
    "pyautogui.write('Minha rua', interval=0.1)\n",
    "time.sleep(1)\n",
    "pyautogui.press('tab')\n",
    "time.sleep(0.5)\n",
    "pyautogui.write('0123456789', interval=0.1)\n",
    "time.sleep(1)\n",
    "pyautogui.press('tab')\n",
    "time.sleep(0.5)\n",
    "pyautogui.write('Meu bairro', interval=0.1)\n",
    "time.sleep(1)\n",
    "pyautogui.press('tab')\n",
    "time.sleep(0.5)\n",
    "pyautogui.write('Minha cidade', interval=0.1)\n",
    "time.sleep(1)\n",
    "pyautogui.press('tab')\n",
    "time.sleep(0.5)\n",
    "pyautogui.press('down', presses=15, interval=0.25)\n",
    "time.sleep(0.3)\n",
    "pyautogui.press('up')\n",
    "time.sleep(1)\n",
    "pyautogui.press('tab')\n",
    "time.sleep(0.5)\n",
    "pyautogui.press('space')\n",
    "time.sleep(1)\n",
    "pyautogui.press('tab')\n",
    "time.sleep(0.5)\n",
    "pyautogui.write('Meu@Email.com', interval=0.1)\n",
    "time.sleep(1)\n",
    "pyautogui.press('tab', presses=3, interval=0.3)\n",
    "time.sleep(1)\n",
    "pyautogui.press('enter')"
   ]
  },
  {
   "cell_type": "code",
   "execution_count": null,
   "id": "a83647a6-342d-47ab-bfd0-56fa827b53dd",
   "metadata": {},
   "outputs": [],
   "source": []
  }
 ],
 "metadata": {
  "kernelspec": {
   "display_name": "Python 3 (ipykernel)",
   "language": "python",
   "name": "python3"
  },
  "language_info": {
   "codemirror_mode": {
    "name": "ipython",
    "version": 3
   },
   "file_extension": ".py",
   "mimetype": "text/x-python",
   "name": "python",
   "nbconvert_exporter": "python",
   "pygments_lexer": "ipython3",
   "version": "3.11.7"
  }
 },
 "nbformat": 4,
 "nbformat_minor": 5
}
