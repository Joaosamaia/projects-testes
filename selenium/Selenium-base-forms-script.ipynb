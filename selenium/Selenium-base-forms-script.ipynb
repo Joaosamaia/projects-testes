{
 "cells": [
  {
   "cell_type": "code",
   "execution_count": 9,
   "id": "74ca5d46-3d3f-4f1d-ac56-b0c3ad17d24b",
   "metadata": {},
   "outputs": [],
   "source": [
    "from selenium import webdriver\n",
    "from webdriver_manager.firefox import GeckoDriverManager\n",
    "from selenium.webdriver.firefox.service import Service\n",
    "import time\n",
    "\n",
    "# Setup the Firefox driver\n",
    "servico = Service(GeckoDriverManager().install())\n",
    "navegador = webdriver.Firefox(service=servico)\n",
    "\n",
    "# Open the initial page\n",
    "navegador.get('file:///C:/Users/your_username/your_directory/your_filename.html')  # Fix the path address \n",
    "\n",
    "# Wait for the page to load\n",
    "time.sleep(2)\n",
    "\n",
    "# Get the list of window handles and switch to the new window\n",
    "window_handles = navegador.window_handles\n",
    "navegador.switch_to.window(window_handles[-1])\n",
    "navegador.execute_script(\"window.focus();\")\n",
    "\n",
    "def find(path):\n",
    "    time.sleep(0.05)\n",
    "    return navegador.find_element('xpath', path)\n",
    "\n",
    "def fill(element, info):\n",
    "    element.send_keys(info)\n",
    "\n",
    "# Fill out the form\n",
    "fill(find('//*[@id=\"nome_login\"]'), 'Meu Login')\n",
    "fill(find('//*[@id=\"nome\"]'), 'Meu Nome')\n",
    "fill(find('//*[@id=\"cpf\"]'), '11111111111')\n",
    "fill(find('//*[@id=\"password\"]'), 'Senha123')\n",
    "fill(find('//*[@id=\"nom_rua\"]'), 'Minha Rua')\n",
    "fill(find('//*[@id=\"nom_numero\"]'), '202')\n",
    "fill(find('//*[@id=\"nom_bairro\"]'), 'Meu Bairro')\n",
    "fill(find('//*[@id=\"nom_cidade\"]'), 'Minha Cidade')\n",
    "find('//*[@id=\"estado\"]').click()\n",
    "find('/html/body/main/div/form/select/option[15]').click()\n",
    "find('//*[@id=\"sex_f\"]').click()\n",
    "fill(find('//*[@id=\"email\"]'), 'MeuEmail@teste.com')\n",
    "find('//*[@id=\"notif_email\"]').click()\n",
    "find('/html/body/main/div/form/div[2]/button[2]').click()"
   ]
  },
  {
   "cell_type": "code",
   "execution_count": null,
   "id": "2c166260",
   "metadata": {},
   "outputs": [],
   "source": []
  }
 ],
 "metadata": {
  "kernelspec": {
   "display_name": "Python 3 (ipykernel)",
   "language": "python",
   "name": "python3"
  },
  "language_info": {
   "codemirror_mode": {
    "name": "ipython",
    "version": 3
   },
   "file_extension": ".py",
   "mimetype": "text/x-python",
   "name": "python",
   "nbconvert_exporter": "python",
   "pygments_lexer": "ipython3",
   "version": "3.11.7"
  }
 },
 "nbformat": 4,
 "nbformat_minor": 5
}
